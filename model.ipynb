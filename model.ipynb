{
 "cells": [
  {
   "cell_type": "code",
   "execution_count": null,
   "metadata": {
    "vscode": {
     "languageId": "plaintext"
    }
   },
   "outputs": [],
   "source": [
    "import faiss\n",
    "import numpy as np\n",
    "from sentence_transformers import SentenceTransformer"
   ]
  },
  {
   "cell_type": "code",
   "execution_count": null,
   "metadata": {
    "vscode": {
     "languageId": "plaintext"
    }
   },
   "outputs": [],
   "source": [
    "# Load a pre-trained transformer model for text embeddings\n",
    "model = SentenceTransformer('all-MiniLM-L6-v2')\n",
    "\n",
    "# Sample news articles dataset\n",
    "news_articles = [\n",
    "    \"Bitcoin price surges as market rebounds\",\n",
    "    \"New AI model outperforms humans in text recognition\",\n",
    "    \"Stock market crashes amid economic uncertainty\",\n",
    "    \"Scientists discover new planet in habitable zone\",\n",
    "    \"Football team wins championship in dramatic final\"\n",
    "]\n",
    "\n",
    "# Generate embeddings for the articles\n",
    "embeddings = model.encode(news_articles, convert_to_numpy=True)"
   ]
  },
  {
   "cell_type": "code",
   "execution_count": null,
   "metadata": {
    "vscode": {
     "languageId": "plaintext"
    }
   },
   "outputs": [],
   "source": [
    "# Build FAISS index for similarity search\n",
    "d = embeddings.shape[1]  # Dimension of embeddings\n",
    "index = faiss.IndexFlatL2(d)\n",
    "index.add(embeddings)"
   ]
  },
  {
   "cell_type": "code",
   "execution_count": null,
   "metadata": {
    "vscode": {
     "languageId": "plaintext"
    }
   },
   "outputs": [],
   "source": [
    "def recommend_articles(query, top_k=3):\n",
    "    \"\"\"Recommend similar articles based on the given query.\"\"\"\n",
    "    query_embedding = model.encode([query], convert_to_numpy=True)\n",
    "    distances, indices = index.search(query_embedding, top_k)\n",
    "    return [news_articles[i] for i in indices[0]]"
   ]
  }
 ],
 "metadata": {
  "language_info": {
   "name": "python"
  }
 },
 "nbformat": 4,
 "nbformat_minor": 2
}
